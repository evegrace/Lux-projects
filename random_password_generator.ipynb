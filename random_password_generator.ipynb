{
  "nbformat": 4,
  "nbformat_minor": 0,
  "metadata": {
    "colab": {
      "name": "random_password_generator.ipynb",
      "provenance": [],
      "authorship_tag": "ABX9TyNN+sa6k76vtO6t2Yt0CCXg",
      "include_colab_link": true
    },
    "kernelspec": {
      "name": "python3",
      "display_name": "Python 3"
    },
    "language_info": {
      "name": "python"
    }
  },
  "cells": [
    {
      "cell_type": "markdown",
      "metadata": {
        "id": "view-in-github",
        "colab_type": "text"
      },
      "source": [
        "<a href=\"https://colab.research.google.com/github/evegrace/Lux-projects/blob/main/random_password_generator.ipynb\" target=\"_parent\"><img src=\"https://colab.research.google.com/assets/colab-badge.svg\" alt=\"Open In Colab\"/></a>"
      ]
    },
    {
      "cell_type": "markdown",
      "metadata": {
        "id": "w-dUpesf3PZ4"
      },
      "source": [
        "Use Python script to generate a random password of 8 characters. Each time the program is run, a new password will be \n",
        "generated randomly. The passwords generated will be 8 characters long and will have to \n",
        "include the following characters in any order:\n",
        "2 uppercase letters from A to Z,\n",
        "2 lowercase letters from a to z,\n",
        "2 digits from 0 to 9,\n",
        "2 punctuation signs such as !, ?, “, # "
      ]
    },
    {
      "cell_type": "code",
      "metadata": {
        "id": "cF20DoFj3aCk"
      },
      "source": [
        "import random\n",
        "import string"
      ],
      "execution_count": 1,
      "outputs": []
    },
    {
      "cell_type": "code",
      "metadata": {
        "id": "wKeT7b_w3mOC"
      },
      "source": [
        "upper = string.ascii_uppercase\n",
        "lower = string.ascii_lowercase\n",
        "digits = string.digits\n",
        "signs = string.punctuation"
      ],
      "execution_count": 2,
      "outputs": []
    },
    {
      "cell_type": "code",
      "metadata": {
        "id": "LRSsBDyA3m76"
      },
      "source": [
        "def get_random(s):\n",
        "  random_s = \"\"\n",
        "  for i in range(2):\n",
        "    random_s += random.choice(s)\n",
        "  return random_s"
      ],
      "execution_count": 3,
      "outputs": []
    },
    {
      "cell_type": "code",
      "metadata": {
        "id": "IFUNsfmn3qHy"
      },
      "source": [
        "#getting the characters\n",
        "characters = get_random(upper) + get_random(lower) + get_random(digits) + get_random(signs)"
      ],
      "execution_count": 4,
      "outputs": []
    },
    {
      "cell_type": "code",
      "metadata": {
        "colab": {
          "base_uri": "https://localhost:8080/"
        },
        "id": "LhOyEXKw3qea",
        "outputId": "cc1012d0-c5bc-4d77-fa11-2d9558177d6c"
      },
      "source": [
        "#generating random 8 characters\n",
        "password_1 = random.sample(characters, 8)\n",
        "password = ''.join(password_1)\n",
        "print(password)\n"
      ],
      "execution_count": 5,
      "outputs": [
        {
          "output_type": "stream",
          "text": [
            "Yp8L>5)n\n"
          ],
          "name": "stdout"
        }
      ]
    }
  ]
}